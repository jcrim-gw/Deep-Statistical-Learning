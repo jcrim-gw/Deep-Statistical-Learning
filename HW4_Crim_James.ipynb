{
 "cells": [
  {
   "cell_type": "markdown",
   "id": "a55e1cdf",
   "metadata": {},
   "source": [
    "# Homework 4, Option 1\n",
    "\n",
    "James Crim\n",
    "\n",
    "NOTE: This homework was done in a python 3.7 environment in Anaconda, due to version issues"
   ]
  },
  {
   "cell_type": "markdown",
   "id": "7af20b01",
   "metadata": {},
   "source": [
    "# Setup"
   ]
  },
  {
   "cell_type": "code",
   "execution_count": 43,
   "id": "220c47c8",
   "metadata": {},
   "outputs": [
    {
     "name": "stdout",
     "output_type": "stream",
     "text": [
      "Requirement already satisfied: matplotlib in c:\\users\\james (gwu)\\anaconda3\\envs\\myenv\\lib\\site-packages (3.5.3)\n",
      "Requirement already satisfied: kiwisolver>=1.0.1 in c:\\users\\james (gwu)\\anaconda3\\envs\\myenv\\lib\\site-packages (from matplotlib) (1.4.5)\n",
      "Requirement already satisfied: fonttools>=4.22.0 in c:\\users\\james (gwu)\\anaconda3\\envs\\myenv\\lib\\site-packages (from matplotlib) (4.38.0)\n",
      "Requirement already satisfied: python-dateutil>=2.7 in c:\\users\\james (gwu)\\anaconda3\\envs\\myenv\\lib\\site-packages (from matplotlib) (2.8.2)\n",
      "Requirement already satisfied: pillow>=6.2.0 in c:\\users\\james (gwu)\\anaconda3\\envs\\myenv\\lib\\site-packages (from matplotlib) (9.5.0)\n",
      "Requirement already satisfied: numpy>=1.17 in c:\\users\\james (gwu)\\anaconda3\\envs\\myenv\\lib\\site-packages (from matplotlib) (1.21.6)\n",
      "Requirement already satisfied: cycler>=0.10 in c:\\users\\james (gwu)\\anaconda3\\envs\\myenv\\lib\\site-packages (from matplotlib) (0.11.0)\n",
      "Requirement already satisfied: packaging>=20.0 in c:\\users\\james (gwu)\\anaconda3\\envs\\myenv\\lib\\site-packages (from matplotlib) (22.0)\n",
      "Requirement already satisfied: pyparsing>=2.2.1 in c:\\users\\james (gwu)\\anaconda3\\envs\\myenv\\lib\\site-packages (from matplotlib) (3.1.1)\n",
      "Requirement already satisfied: typing-extensions in c:\\users\\james (gwu)\\anaconda3\\envs\\myenv\\lib\\site-packages (from kiwisolver>=1.0.1->matplotlib) (4.3.0)\n",
      "Requirement already satisfied: six>=1.5 in c:\\users\\james (gwu)\\anaconda3\\envs\\myenv\\lib\\site-packages (from python-dateutil>=2.7->matplotlib) (1.16.0)\n"
     ]
    }
   ],
   "source": [
    "!pip install matplotlib\n",
    "import matplotlib.pyplot as plt"
   ]
  },
  {
   "cell_type": "code",
   "execution_count": 11,
   "id": "5280a8e6",
   "metadata": {},
   "outputs": [
    {
     "name": "stdout",
     "output_type": "stream",
     "text": [
      "Requirement already satisfied: wget in c:\\users\\james (gwu)\\anaconda3\\envs\\myenv\\lib\\site-packages (3.2)\n"
     ]
    }
   ],
   "source": [
    "# get data (takes a few mins)\n",
    "!pip install wget\n",
    "import wget\n",
    "raw_dat_wget = wget.download('http://magnitude.plasticity.ai/word2vec/GoogleNews-vectors-negative300.magnitude')"
   ]
  },
  {
   "cell_type": "code",
   "execution_count": 12,
   "id": "00152a69",
   "metadata": {},
   "outputs": [],
   "source": [
    "# load data as a magnitude object\n",
    "from pymagnitude import *\n",
    "file_path = \"GoogleNews-vectors-negative300.magnitude\"\n",
    "vectors = Magnitude(file_path)"
   ]
  },
  {
   "cell_type": "code",
   "execution_count": 13,
   "id": "c975c6b4",
   "metadata": {},
   "outputs": [
    {
     "data": {
      "text/plain": [
       "0.69145405"
      ]
     },
     "execution_count": 13,
     "metadata": {},
     "output_type": "execute_result"
    }
   ],
   "source": [
    "# test that setup worked properly, should be ~0.691\n",
    "vectors.distance(\"cat\", \"dog\")"
   ]
  },
  {
   "cell_type": "markdown",
   "id": "752a96bb",
   "metadata": {},
   "source": [
    "# Assignment Questions"
   ]
  },
  {
   "cell_type": "markdown",
   "id": "1a653a83",
   "metadata": {},
   "source": [
    "## Question 1"
   ]
  },
  {
   "cell_type": "code",
   "execution_count": 14,
   "id": "8be234a2",
   "metadata": {},
   "outputs": [
    {
     "data": {
      "text/plain": [
       "300"
      ]
     },
     "execution_count": 14,
     "metadata": {},
     "output_type": "execute_result"
    }
   ],
   "source": [
    "# get number of vector dimensions\n",
    "vectors.dim"
   ]
  },
  {
   "cell_type": "markdown",
   "id": "f60371b3",
   "metadata": {},
   "source": [
    "## Question 2"
   ]
  },
  {
   "cell_type": "code",
   "execution_count": 17,
   "id": "b1850288",
   "metadata": {},
   "outputs": [
    {
     "data": {
      "text/plain": [
       "[('picnics', 0.7400875),\n",
       " ('picnic_lunch', 0.721374),\n",
       " ('Picnic', 0.700534),\n",
       " ('potluck_picnic', 0.6683274),\n",
       " ('picnic_supper', 0.65189123)]"
      ]
     },
     "execution_count": 17,
     "metadata": {},
     "output_type": "execute_result"
    }
   ],
   "source": [
    "# find the 5 words most similar to \"picnic\", excluding \"picnic\" itself\n",
    "vectors.most_similar(\"picnic\", topn = 5)"
   ]
  },
  {
   "cell_type": "code",
   "execution_count": 18,
   "id": "4d2c0a4b",
   "metadata": {},
   "outputs": [
    {
     "data": {
      "text/plain": [
       "[('picnics', 0.7400875),\n",
       " ('picnic_lunch', 0.721374),\n",
       " ('Picnic', 0.700534),\n",
       " ('potluck_picnic', 0.6683274),\n",
       " ('picnic_supper', 0.65189123),\n",
       " ('picnicking', 0.63550216),\n",
       " ('cookout', 0.63243484),\n",
       " ('Hiking_biking_camping', 0.6256069),\n",
       " ('barbeque', 0.62256277),\n",
       " ('barbecue', 0.6195759),\n",
       " ('picnic_lunches', 0.6143184),\n",
       " ('pig_roast', 0.61019313),\n",
       " ('Bring_picnic', 0.6033048),\n",
       " ('potluck', 0.60114384),\n",
       " ('picnic_tables', 0.6006263),\n",
       " ('Hawaiian_luau', 0.5982951),\n",
       " ('wiener_roast', 0.59388626),\n",
       " ('potluck_dinner', 0.5916978),\n",
       " ('fish_fry', 0.58994764),\n",
       " ('gazebo', 0.58934724)]"
      ]
     },
     "execution_count": 18,
     "metadata": {},
     "output_type": "execute_result"
    }
   ],
   "source": [
    "# doing the same thing, but looking for 5 words that don't include the word \"picnic\" at all\n",
    "vectors.most_similar(\"picnic\", topn = 20)\n",
    "# they are cookout, hiking_biking_camping, barbecue/barbeque, pig_roast, and potluck"
   ]
  },
  {
   "cell_type": "markdown",
   "id": "de5dbbb6",
   "metadata": {},
   "source": [
    "## Question 3"
   ]
  },
  {
   "cell_type": "code",
   "execution_count": 21,
   "id": "7c1f926c",
   "metadata": {},
   "outputs": [
    {
     "data": {
      "text/plain": [
       "'tissue'"
      ]
     },
     "execution_count": 21,
     "metadata": {},
     "output_type": "execute_result"
    }
   ],
   "source": [
    "# determine which of these words is most dissimilar from the others, ie \"the odd one out\"\n",
    "words_to_look_at = ['tissue', 'papyrus', 'manila', 'newsprint', 'parchment', 'gazette']\n",
    "vectors.doesnt_match(words_to_look_at)\n",
    "# it's tissue!"
   ]
  },
  {
   "cell_type": "markdown",
   "id": "ac1fbed1",
   "metadata": {},
   "source": [
    "# Question 4"
   ]
  },
  {
   "cell_type": "code",
   "execution_count": 24,
   "id": "8813eea0",
   "metadata": {},
   "outputs": [
    {
     "data": {
      "text/plain": [
       "[('forearm', 0.48294652),\n",
       " ('shin', 0.47376165),\n",
       " ('elbow', 0.4679689),\n",
       " ('metacarpal_bone', 0.46781474),\n",
       " ('metacarpal_bones', 0.46605822),\n",
       " ('ankle', 0.46434426),\n",
       " ('shoulder', 0.46183354),\n",
       " ('thigh', 0.45393682),\n",
       " ('knee', 0.4455707),\n",
       " ('ulna_bone', 0.4423491)]"
      ]
     },
     "execution_count": 24,
     "metadata": {},
     "output_type": "execute_result"
    }
   ],
   "source": [
    "# solve the analogy \"leg is to jump as X is to throw\" using vector math!\n",
    "# this is taking the difference vector of \"leg\" and \"jump\" and overlaying it on \"throw\" and seeing what are the closest words\n",
    "vectors.most_similar(positive = [\"throw\", \"leg\"], negative = [\"jump\"])\n",
    "# the answer is \"forearm\"!"
   ]
  },
  {
   "cell_type": "markdown",
   "id": "a7898ad1",
   "metadata": {},
   "source": [
    "# Data Visualization"
   ]
  },
  {
   "cell_type": "code",
   "execution_count": 76,
   "id": "ddf7fb50",
   "metadata": {},
   "outputs": [
    {
     "data": {
      "image/png": "[encoded data removed]",
      "text/plain": [
       "<Figure size 640x480 with 1 Axes>"
      ]
     },
     "metadata": {},
     "output_type": "display_data"
    }
   ],
   "source": [
    "# looking at two selected dimesions to get an idea of how the vectors for question 4 relate visually\n",
    "offset = 11\n",
    "estimate = vectors.query(\"throw\") + vectors.query(\"leg\") - vectors.query(\"jump\")\n",
    "estimate = estimate[(0+offset):(2+offset)]\n",
    "closest = vectors.query(\"forearm\")[(0+offset):(2+offset)]\n",
    "throw = vectors.query(\"throw\")[(0+offset):(2+offset)]\n",
    "leg = vectors.query(\"leg\")[(0+offset):(2+offset)]\n",
    "jump = vectors.query(\"jump\")[(0+offset):(2+offset)]\n",
    "\n",
    "plt.scatter(throw[0], throw[1]);\n",
    "plt.scatter(leg[0], leg[1]);\n",
    "plt.scatter(jump[0], jump[1]);\n",
    "plt.scatter(estimate[0], estimate[1]);\n",
    "plt.scatter(closest[0], closest[1]);\n",
    "plt.title(\"Question 4, Comparing Two Dimensions of Components and Estimate\");\n",
    "plt.legend(['Throw', 'Leg', 'Jump', 'Estimate', 'Closest']);"
   ]
  }
 ],
 "metadata": {
  "kernelspec": {
   "display_name": "Python 3 (ipykernel)",
   "language": "python",
   "name": "python3"
  },
  "language_info": {
   "codemirror_mode": {
    "name": "ipython",
    "version": 3
   },
   "file_extension": ".py",
   "mimetype": "text/x-python",
   "name": "python",
   "nbconvert_exporter": "python",
   "pygments_lexer": "ipython3",
   "version": "3.7.16"
  }
 },
 "nbformat": 4,
 "nbformat_minor": 5
}
